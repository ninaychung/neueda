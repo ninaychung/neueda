{
 "cells": [
  {
   "cell_type": "markdown",
   "id": "44205122",
   "metadata": {},
   "source": [
    "# Overview of Numpy"
   ]
  },
  {
   "cell_type": "code",
   "execution_count": 7,
   "id": "ec48f2ca",
   "metadata": {},
   "outputs": [
    {
     "name": "stdout",
     "output_type": "stream",
     "text": [
      "<class 'numpy.ndarray'>\n"
     ]
    },
    {
     "data": {
      "text/plain": [
       "array([[85, 78, 71],\n",
       "       [78, 73, 68],\n",
       "       [71, 68, 65]])"
      ]
     },
     "execution_count": 7,
     "metadata": {},
     "output_type": "execute_result"
    }
   ],
   "source": [
    "import numpy as np\n",
    "\n",
    "p = np.array([5,3,8,9,2]) # array MUST be of same data type\n",
    "p.dtype\n",
    "print(type(p))\n",
    "\n",
    "# multi-dimensional array\n",
    "c = np.array([[2,3,4], [9,8,7]])\n",
    "np.dot(c.T, c)"
   ]
  },
  {
   "cell_type": "markdown",
   "id": "b7537876",
   "metadata": {},
   "source": [
    "# ctrl-enter runs the cell\n",
    "## shift-enter runs the cell and adds a cell"
   ]
  },
  {
   "cell_type": "code",
   "execution_count": null,
   "id": "47eb696e",
   "metadata": {},
   "outputs": [],
   "source": []
  }
 ],
 "metadata": {
  "kernelspec": {
   "display_name": "Python 3 (ipykernel)",
   "language": "python",
   "name": "python3"
  },
  "language_info": {
   "codemirror_mode": {
    "name": "ipython",
    "version": 3
   },
   "file_extension": ".py",
   "mimetype": "text/x-python",
   "name": "python",
   "nbconvert_exporter": "python",
   "pygments_lexer": "ipython3",
   "version": "3.9.12"
  }
 },
 "nbformat": 4,
 "nbformat_minor": 5
}
