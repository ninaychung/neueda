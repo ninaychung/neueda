{
 "cells": [
  {
   "cell_type": "markdown",
   "id": "6ab57a01",
   "metadata": {},
   "source": [
    "# Modeling and Analysing Financial Data"
   ]
  },
  {
   "cell_type": "code",
   "execution_count": 2,
   "id": "4292ebb4",
   "metadata": {},
   "outputs": [],
   "source": [
    "import pandas as pd\n",
    "import numpy as np\n",
    "import matplotlib.pyplot as plt"
   ]
  },
  {
   "cell_type": "code",
   "execution_count": 5,
   "id": "ca9f7688",
   "metadata": {},
   "outputs": [
    {
     "data": {
      "text/plain": [
       "count     8.00000\n",
       "mean     16.62500\n",
       "std      16.01729\n",
       "min       2.00000\n",
       "25%       5.50000\n",
       "50%      11.00000\n",
       "75%      24.25000\n",
       "max      50.00000\n",
       "dtype: float64"
      ]
     },
     "execution_count": 5,
     "metadata": {},
     "output_type": "execute_result"
    }
   ],
   "source": [
    "# some analysis of a series\n",
    "s = pd.Series([13,2,4,24,9,25,6,50])\n",
    "s.describe()"
   ]
  },
  {
   "cell_type": "code",
   "execution_count": 11,
   "id": "d683adfd",
   "metadata": {},
   "outputs": [
    {
     "ename": "SyntaxError",
     "evalue": "invalid syntax (2108455316.py, line 4)",
     "output_type": "error",
     "traceback": [
      "\u001b[0;36m  Input \u001b[0;32mIn [11]\u001b[0;36m\u001b[0m\n\u001b[0;31m    s.cummax?\u001b[0m\n\u001b[0m            ^\u001b[0m\n\u001b[0;31mSyntaxError\u001b[0m\u001b[0;31m:\u001b[0m invalid syntax\n"
     ]
    }
   ],
   "source": [
    "# accumulators\n",
    "s.cumsum() # NB shift+TAB will give context-sensitive pop-up documentation\n",
    "s.cumprod()\n",
    "s.cummax() # this will show a load of documentation on the topic"
   ]
  },
  {
   "cell_type": "code",
   "execution_count": 10,
   "id": "5fdb98d7",
   "metadata": {},
   "outputs": [
    {
     "data": {
      "text/plain": [
       "7"
      ]
     },
     "execution_count": 10,
     "metadata": {},
     "output_type": "execute_result"
    }
   ],
   "source": [
    "s.diff()\n",
    "s.pct_change()\n",
    "s.idxmax()"
   ]
  },
  {
   "cell_type": "code",
   "execution_count": 12,
   "id": "6d510cef",
   "metadata": {},
   "outputs": [
    {
     "data": {
      "text/plain": [
       "11.0"
      ]
     },
     "execution_count": 12,
     "metadata": {},
     "output_type": "execute_result"
    }
   ],
   "source": [
    "# if you know your stats, then...\n",
    "s.skew()\n",
    "s.kurt()\n",
    "s.quantile()"
   ]
  },
  {
   "cell_type": "code",
   "execution_count": 23,
   "id": "aeda4c9a",
   "metadata": {},
   "outputs": [
    {
     "data": {
      "text/plain": [
       "Name               object\n",
       "Sector             object\n",
       "Price             float64\n",
       "Price/Earnings    float64\n",
       "Earnings/Share    float64\n",
       "52 Week High      float64\n",
       "52 Week Low       float64\n",
       "dtype: object"
      ]
     },
     "execution_count": 23,
     "metadata": {},
     "output_type": "execute_result"
    }
   ],
   "source": [
    "df_SPX = pd.read_csv('../Data/SPX.csv', index_col = 'Symbol')\n",
    "df_SPX.dtypes"
   ]
  },
  {
   "cell_type": "code",
   "execution_count": 30,
   "id": "42fb12c7",
   "metadata": {},
   "outputs": [
    {
     "data": {
      "text/html": [
       "<div>\n",
       "<style scoped>\n",
       "    .dataframe tbody tr th:only-of-type {\n",
       "        vertical-align: middle;\n",
       "    }\n",
       "\n",
       "    .dataframe tbody tr th {\n",
       "        vertical-align: top;\n",
       "    }\n",
       "\n",
       "    .dataframe thead th {\n",
       "        text-align: right;\n",
       "    }\n",
       "</style>\n",
       "<table border=\"1\" class=\"dataframe\">\n",
       "  <thead>\n",
       "    <tr style=\"text-align: right;\">\n",
       "      <th></th>\n",
       "      <th>Name</th>\n",
       "      <th>Sector</th>\n",
       "    </tr>\n",
       "    <tr>\n",
       "      <th>Symbol</th>\n",
       "      <th></th>\n",
       "      <th></th>\n",
       "    </tr>\n",
       "  </thead>\n",
       "  <tbody>\n",
       "    <tr>\n",
       "      <th>MMM</th>\n",
       "      <td>3M Company</td>\n",
       "      <td>Industrials</td>\n",
       "    </tr>\n",
       "    <tr>\n",
       "      <th>AOS</th>\n",
       "      <td>A.O. Smith Corp</td>\n",
       "      <td>Industrials</td>\n",
       "    </tr>\n",
       "    <tr>\n",
       "      <th>ABT</th>\n",
       "      <td>Abbott Laboratories</td>\n",
       "      <td>Health Care</td>\n",
       "    </tr>\n",
       "  </tbody>\n",
       "</table>\n",
       "</div>"
      ],
      "text/plain": [
       "                       Name       Sector\n",
       "Symbol                                  \n",
       "MMM              3M Company  Industrials\n",
       "AOS         A.O. Smith Corp  Industrials\n",
       "ABT     Abbott Laboratories  Health Care"
      ]
     },
     "execution_count": 30,
     "metadata": {},
     "output_type": "execute_result"
    }
   ],
   "source": [
    "# Details around [], loc[], and iloc[]\n",
    "# .loc ONLY operates on the INDEX column -- it locates row(s) from their INDEX column name\n",
    "df_SPX['Name'] # just return the columns called 'Name' (which is a Pandas series)\n",
    "df_SPX[['Name', 'Sector']] # we can pick and choose which columns (in what order) we need\n",
    "# what about loc - pick ROWS by name\n",
    "df_SPX.loc[['MMM', 'AOS']] # [['Name', 'Sector']]\n",
    "whichCols = ['Name', 'Sector']\n",
    "subset = df_SPX.loc[['MMM', 'AOS', 'ABT']]\n",
    "subset[whichCols]\n",
    "# same as... but maybe easier to read\n",
    "df_SPX.loc[['MMM', 'AOS', 'ABT']][['Name', 'Sector']]"
   ]
  },
  {
   "cell_type": "code",
   "execution_count": null,
   "id": "c91d5087",
   "metadata": {},
   "outputs": [],
   "source": []
  }
 ],
 "metadata": {
  "kernelspec": {
   "display_name": "Python 3 (ipykernel)",
   "language": "python",
   "name": "python3"
  },
  "language_info": {
   "codemirror_mode": {
    "name": "ipython",
    "version": 3
   },
   "file_extension": ".py",
   "mimetype": "text/x-python",
   "name": "python",
   "nbconvert_exporter": "python",
   "pygments_lexer": "ipython3",
   "version": "3.9.12"
  }
 },
 "nbformat": 4,
 "nbformat_minor": 5
}
