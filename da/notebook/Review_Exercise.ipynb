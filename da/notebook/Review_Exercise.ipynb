{
 "cells": [
  {
   "cell_type": "markdown",
   "id": "5fd8924f",
   "metadata": {},
   "source": [
    "# Review Exercise"
   ]
  },
  {
   "cell_type": "code",
   "execution_count": 28,
   "id": "9a4d4a89",
   "metadata": {},
   "outputs": [],
   "source": [
    "import pandas as pd\n",
    "import numpy as np\n",
    "import matplotlib.pyplot as plt"
   ]
  },
  {
   "cell_type": "code",
   "execution_count": 32,
   "id": "1fb35e88",
   "metadata": {},
   "outputs": [
    {
     "data": {
      "text/html": [
       "<div>\n",
       "<style scoped>\n",
       "    .dataframe tbody tr th:only-of-type {\n",
       "        vertical-align: middle;\n",
       "    }\n",
       "\n",
       "    .dataframe tbody tr th {\n",
       "        vertical-align: top;\n",
       "    }\n",
       "\n",
       "    .dataframe thead th {\n",
       "        text-align: right;\n",
       "    }\n",
       "</style>\n",
       "<table border=\"1\" class=\"dataframe\">\n",
       "  <thead>\n",
       "    <tr style=\"text-align: right;\">\n",
       "      <th></th>\n",
       "      <th>month</th>\n",
       "      <th>day</th>\n",
       "      <th>dep_time</th>\n",
       "      <th>dep_delay</th>\n",
       "      <th>arr_time</th>\n",
       "      <th>arr_delay</th>\n",
       "      <th>carrier</th>\n",
       "      <th>tailnum</th>\n",
       "      <th>flight</th>\n",
       "      <th>origin</th>\n",
       "      <th>dest</th>\n",
       "      <th>air_time</th>\n",
       "      <th>distance</th>\n",
       "      <th>hour</th>\n",
       "      <th>minute</th>\n",
       "    </tr>\n",
       "    <tr>\n",
       "      <th>year</th>\n",
       "      <th></th>\n",
       "      <th></th>\n",
       "      <th></th>\n",
       "      <th></th>\n",
       "      <th></th>\n",
       "      <th></th>\n",
       "      <th></th>\n",
       "      <th></th>\n",
       "      <th></th>\n",
       "      <th></th>\n",
       "      <th></th>\n",
       "      <th></th>\n",
       "      <th></th>\n",
       "      <th></th>\n",
       "      <th></th>\n",
       "    </tr>\n",
       "  </thead>\n",
       "  <tbody>\n",
       "    <tr>\n",
       "      <th>2013-01-01</th>\n",
       "      <td>1</td>\n",
       "      <td>1</td>\n",
       "      <td>517.0</td>\n",
       "      <td>2.0</td>\n",
       "      <td>830.0</td>\n",
       "      <td>11.0</td>\n",
       "      <td>UA</td>\n",
       "      <td>N14228</td>\n",
       "      <td>1545</td>\n",
       "      <td>EWR</td>\n",
       "      <td>IAH</td>\n",
       "      <td>227.0</td>\n",
       "      <td>1400</td>\n",
       "      <td>5.0</td>\n",
       "      <td>17.0</td>\n",
       "    </tr>\n",
       "    <tr>\n",
       "      <th>2013-01-01</th>\n",
       "      <td>1</td>\n",
       "      <td>1</td>\n",
       "      <td>533.0</td>\n",
       "      <td>4.0</td>\n",
       "      <td>850.0</td>\n",
       "      <td>20.0</td>\n",
       "      <td>UA</td>\n",
       "      <td>N24211</td>\n",
       "      <td>1714</td>\n",
       "      <td>LGA</td>\n",
       "      <td>IAH</td>\n",
       "      <td>227.0</td>\n",
       "      <td>1416</td>\n",
       "      <td>5.0</td>\n",
       "      <td>33.0</td>\n",
       "    </tr>\n",
       "    <tr>\n",
       "      <th>2013-01-01</th>\n",
       "      <td>1</td>\n",
       "      <td>1</td>\n",
       "      <td>542.0</td>\n",
       "      <td>2.0</td>\n",
       "      <td>923.0</td>\n",
       "      <td>33.0</td>\n",
       "      <td>AA</td>\n",
       "      <td>N619AA</td>\n",
       "      <td>1141</td>\n",
       "      <td>JFK</td>\n",
       "      <td>MIA</td>\n",
       "      <td>160.0</td>\n",
       "      <td>1089</td>\n",
       "      <td>5.0</td>\n",
       "      <td>42.0</td>\n",
       "    </tr>\n",
       "    <tr>\n",
       "      <th>2013-01-01</th>\n",
       "      <td>1</td>\n",
       "      <td>1</td>\n",
       "      <td>554.0</td>\n",
       "      <td>-6.0</td>\n",
       "      <td>812.0</td>\n",
       "      <td>-25.0</td>\n",
       "      <td>DL</td>\n",
       "      <td>N668DN</td>\n",
       "      <td>461</td>\n",
       "      <td>LGA</td>\n",
       "      <td>ATL</td>\n",
       "      <td>116.0</td>\n",
       "      <td>762</td>\n",
       "      <td>5.0</td>\n",
       "      <td>54.0</td>\n",
       "    </tr>\n",
       "    <tr>\n",
       "      <th>2013-01-01</th>\n",
       "      <td>1</td>\n",
       "      <td>1</td>\n",
       "      <td>554.0</td>\n",
       "      <td>-4.0</td>\n",
       "      <td>740.0</td>\n",
       "      <td>12.0</td>\n",
       "      <td>UA</td>\n",
       "      <td>N39463</td>\n",
       "      <td>1696</td>\n",
       "      <td>EWR</td>\n",
       "      <td>ORD</td>\n",
       "      <td>150.0</td>\n",
       "      <td>719</td>\n",
       "      <td>5.0</td>\n",
       "      <td>54.0</td>\n",
       "    </tr>\n",
       "    <tr>\n",
       "      <th>...</th>\n",
       "      <td>...</td>\n",
       "      <td>...</td>\n",
       "      <td>...</td>\n",
       "      <td>...</td>\n",
       "      <td>...</td>\n",
       "      <td>...</td>\n",
       "      <td>...</td>\n",
       "      <td>...</td>\n",
       "      <td>...</td>\n",
       "      <td>...</td>\n",
       "      <td>...</td>\n",
       "      <td>...</td>\n",
       "      <td>...</td>\n",
       "      <td>...</td>\n",
       "      <td>...</td>\n",
       "    </tr>\n",
       "    <tr>\n",
       "      <th>2013-01-01</th>\n",
       "      <td>9</td>\n",
       "      <td>30</td>\n",
       "      <td>2105.0</td>\n",
       "      <td>-1.0</td>\n",
       "      <td>2329.0</td>\n",
       "      <td>-25.0</td>\n",
       "      <td>UA</td>\n",
       "      <td>N477UA</td>\n",
       "      <td>475</td>\n",
       "      <td>EWR</td>\n",
       "      <td>IAH</td>\n",
       "      <td>175.0</td>\n",
       "      <td>1400</td>\n",
       "      <td>21.0</td>\n",
       "      <td>5.0</td>\n",
       "    </tr>\n",
       "    <tr>\n",
       "      <th>2013-01-01</th>\n",
       "      <td>9</td>\n",
       "      <td>30</td>\n",
       "      <td>2121.0</td>\n",
       "      <td>21.0</td>\n",
       "      <td>2349.0</td>\n",
       "      <td>-25.0</td>\n",
       "      <td>DL</td>\n",
       "      <td>N193DN</td>\n",
       "      <td>2363</td>\n",
       "      <td>JFK</td>\n",
       "      <td>LAX</td>\n",
       "      <td>296.0</td>\n",
       "      <td>2475</td>\n",
       "      <td>21.0</td>\n",
       "      <td>21.0</td>\n",
       "    </tr>\n",
       "    <tr>\n",
       "      <th>2013-01-01</th>\n",
       "      <td>9</td>\n",
       "      <td>30</td>\n",
       "      <td>2140.0</td>\n",
       "      <td>0.0</td>\n",
       "      <td>10.0</td>\n",
       "      <td>-30.0</td>\n",
       "      <td>AA</td>\n",
       "      <td>N335AA</td>\n",
       "      <td>185</td>\n",
       "      <td>JFK</td>\n",
       "      <td>LAX</td>\n",
       "      <td>298.0</td>\n",
       "      <td>2475</td>\n",
       "      <td>21.0</td>\n",
       "      <td>40.0</td>\n",
       "    </tr>\n",
       "    <tr>\n",
       "      <th>2013-01-01</th>\n",
       "      <td>9</td>\n",
       "      <td>30</td>\n",
       "      <td>2149.0</td>\n",
       "      <td>-7.0</td>\n",
       "      <td>2245.0</td>\n",
       "      <td>-23.0</td>\n",
       "      <td>UA</td>\n",
       "      <td>N813UA</td>\n",
       "      <td>523</td>\n",
       "      <td>EWR</td>\n",
       "      <td>BOS</td>\n",
       "      <td>37.0</td>\n",
       "      <td>200</td>\n",
       "      <td>21.0</td>\n",
       "      <td>49.0</td>\n",
       "    </tr>\n",
       "    <tr>\n",
       "      <th>2013-01-01</th>\n",
       "      <td>9</td>\n",
       "      <td>30</td>\n",
       "      <td>2233.0</td>\n",
       "      <td>80.0</td>\n",
       "      <td>112.0</td>\n",
       "      <td>42.0</td>\n",
       "      <td>UA</td>\n",
       "      <td>N578UA</td>\n",
       "      <td>471</td>\n",
       "      <td>EWR</td>\n",
       "      <td>SFO</td>\n",
       "      <td>318.0</td>\n",
       "      <td>2565</td>\n",
       "      <td>22.0</td>\n",
       "      <td>33.0</td>\n",
       "    </tr>\n",
       "  </tbody>\n",
       "</table>\n",
       "<p>160754 rows × 15 columns</p>\n",
       "</div>"
      ],
      "text/plain": [
       "            month  day  dep_time  dep_delay  arr_time  arr_delay carrier  \\\n",
       "year                                                                       \n",
       "2013-01-01      1    1     517.0        2.0     830.0       11.0      UA   \n",
       "2013-01-01      1    1     533.0        4.0     850.0       20.0      UA   \n",
       "2013-01-01      1    1     542.0        2.0     923.0       33.0      AA   \n",
       "2013-01-01      1    1     554.0       -6.0     812.0      -25.0      DL   \n",
       "2013-01-01      1    1     554.0       -4.0     740.0       12.0      UA   \n",
       "...           ...  ...       ...        ...       ...        ...     ...   \n",
       "2013-01-01      9   30    2105.0       -1.0    2329.0      -25.0      UA   \n",
       "2013-01-01      9   30    2121.0       21.0    2349.0      -25.0      DL   \n",
       "2013-01-01      9   30    2140.0        0.0      10.0      -30.0      AA   \n",
       "2013-01-01      9   30    2149.0       -7.0    2245.0      -23.0      UA   \n",
       "2013-01-01      9   30    2233.0       80.0     112.0       42.0      UA   \n",
       "\n",
       "           tailnum  flight origin dest  air_time  distance  hour  minute  \n",
       "year                                                                      \n",
       "2013-01-01  N14228    1545    EWR  IAH     227.0      1400   5.0    17.0  \n",
       "2013-01-01  N24211    1714    LGA  IAH     227.0      1416   5.0    33.0  \n",
       "2013-01-01  N619AA    1141    JFK  MIA     160.0      1089   5.0    42.0  \n",
       "2013-01-01  N668DN     461    LGA  ATL     116.0       762   5.0    54.0  \n",
       "2013-01-01  N39463    1696    EWR  ORD     150.0       719   5.0    54.0  \n",
       "...            ...     ...    ...  ...       ...       ...   ...     ...  \n",
       "2013-01-01  N477UA     475    EWR  IAH     175.0      1400  21.0     5.0  \n",
       "2013-01-01  N193DN    2363    JFK  LAX     296.0      2475  21.0    21.0  \n",
       "2013-01-01  N335AA     185    JFK  LAX     298.0      2475  21.0    40.0  \n",
       "2013-01-01  N813UA     523    EWR  BOS      37.0       200  21.0    49.0  \n",
       "2013-01-01  N578UA     471    EWR  SFO     318.0      2565  22.0    33.0  \n",
       "\n",
       "[160754 rows x 15 columns]"
      ]
     },
     "execution_count": 32,
     "metadata": {},
     "output_type": "execute_result"
    }
   ],
   "source": [
    "df_flights = pd.read_csv('../Data/flights.csv', parse_dates=True, index_col = 'year')\n",
    "df_flights\n"
   ]
  },
  {
   "cell_type": "code",
   "execution_count": null,
   "id": "490bb49d",
   "metadata": {},
   "outputs": [],
   "source": [
    "# number of rows and columns\n",
    "df_flights.shape"
   ]
  },
  {
   "cell_type": "code",
   "execution_count": 37,
   "id": "714a57ae",
   "metadata": {},
   "outputs": [
    {
     "ename": "SyntaxError",
     "evalue": "invalid syntax (1011569928.py, line 1)",
     "output_type": "error",
     "traceback": [
      "\u001b[0;36m  Input \u001b[0;32mIn [37]\u001b[0;36m\u001b[0m\n\u001b[0;31m    df_flights.iloc([:4])\u001b[0m\n\u001b[0m                     ^\u001b[0m\n\u001b[0;31mSyntaxError\u001b[0m\u001b[0;31m:\u001b[0m invalid syntax\n"
     ]
    }
   ],
   "source": [
    "df_flights.iloc([:4])"
   ]
  },
  {
   "cell_type": "code",
   "execution_count": null,
   "id": "1fbe0a7a",
   "metadata": {},
   "outputs": [],
   "source": [
    "# data types\n",
    "df_flights.dtypes"
   ]
  },
  {
   "cell_type": "code",
   "execution_count": null,
   "id": "8d0ec772",
   "metadata": {},
   "outputs": [],
   "source": [
    "# stat summaries\n",
    "df_flights.describe()"
   ]
  },
  {
   "cell_type": "code",
   "execution_count": null,
   "id": "2c42688e",
   "metadata": {},
   "outputs": [],
   "source": [
    "# group by airline and show min and mean depature delay for each\n",
    "# min\n",
    "df_flights.groupby(by='carrier')['dep_delay'].min()"
   ]
  },
  {
   "cell_type": "code",
   "execution_count": null,
   "id": "184075d0",
   "metadata": {},
   "outputs": [],
   "source": [
    "# mean\n",
    "df_flights.groupby(by='carrier')['dep_delay'].mean()"
   ]
  },
  {
   "cell_type": "code",
   "execution_count": null,
   "id": "5e40e934",
   "metadata": {},
   "outputs": [],
   "source": [
    "# How many unique aircraft are represented? \n",
    "len(pd.unique(df_flights['tailnum']))"
   ]
  },
  {
   "cell_type": "code",
   "execution_count": null,
   "id": "eb218dc4",
   "metadata": {},
   "outputs": [],
   "source": [
    "# What was the greatest recorded delay (show the related data)?\n",
    "df_flights[df_flights['dep_delay'] == df_flights['dep_delay'].max()]"
   ]
  },
  {
   "cell_type": "code",
   "execution_count": null,
   "id": "226e3105",
   "metadata": {},
   "outputs": [],
   "source": [
    "# Show the mean values for just the first 50 records in the dataset, then for all delays of 15 or more units \n",
    "df_50 = df_flights.head(50)\n",
    "\n",
    "df_50.mean()\n"
   ]
  },
  {
   "cell_type": "code",
   "execution_count": null,
   "id": "a7a3ceda",
   "metadata": {},
   "outputs": [],
   "source": [
    "# for all delays of 15 or more units\n",
    "df_50.loc[(df_50['arr_delay'] > 15) | (df_50['dep_delay'] > 15)]"
   ]
  },
  {
   "cell_type": "code",
   "execution_count": null,
   "id": "38e345f6",
   "metadata": {},
   "outputs": [],
   "source": [
    "# - Make a DataFrame containing all AA flights but drop missing data members\n",
    "df_flights.loc[df_flights['carrier'] == 'AA'].dropna()"
   ]
  },
  {
   "cell_type": "code",
   "execution_count": null,
   "id": "520cef4b",
   "metadata": {},
   "outputs": [],
   "source": [
    "# Make a DataFrame containing all flights departing from LGA grouped by destination \n",
    "\n",
    "df_flights.loc[df_flights['origin'] == 'LGA'].sort_values(by = 'dest')"
   ]
  },
  {
   "cell_type": "code",
   "execution_count": null,
   "id": "555aea4e",
   "metadata": {},
   "outputs": [],
   "source": [
    "# Make a DataFrame containing all flights grouped by airline and sorted by increasing flight duration\n",
    "df_flights.sort_values(by = ['carrier','air_time'], ascending = [True, True])"
   ]
  },
  {
   "cell_type": "code",
   "execution_count": null,
   "id": "05652601",
   "metadata": {},
   "outputs": [],
   "source": [
    "df_flights"
   ]
  },
  {
   "cell_type": "code",
   "execution_count": 27,
   "id": "a0b249b3",
   "metadata": {},
   "outputs": [
    {
     "ename": "SyntaxError",
     "evalue": "invalid syntax (821062213.py, line 1)",
     "output_type": "error",
     "traceback": [
      "\u001b[0;36m  Input \u001b[0;32mIn [27]\u001b[0;36m\u001b[0m\n\u001b[0;31m    df_flights.loc([0:3])\u001b[0m\n\u001b[0m                     ^\u001b[0m\n\u001b[0;31mSyntaxError\u001b[0m\u001b[0;31m:\u001b[0m invalid syntax\n"
     ]
    }
   ],
   "source": [
    "df_flights.loc([0:3])"
   ]
  }
 ],
 "metadata": {
  "kernelspec": {
   "display_name": "Python 3 (ipykernel)",
   "language": "python",
   "name": "python3"
  },
  "language_info": {
   "codemirror_mode": {
    "name": "ipython",
    "version": 3
   },
   "file_extension": ".py",
   "mimetype": "text/x-python",
   "name": "python",
   "nbconvert_exporter": "python",
   "pygments_lexer": "ipython3",
   "version": "3.9.12"
  }
 },
 "nbformat": 4,
 "nbformat_minor": 5
}
