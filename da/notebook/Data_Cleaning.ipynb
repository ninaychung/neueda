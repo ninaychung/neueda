{
 "cells": [
  {
   "cell_type": "markdown",
   "id": "93f4ea0a",
   "metadata": {},
   "source": [
    "# Cleaning and Preparing Data"
   ]
  },
  {
   "cell_type": "code",
   "execution_count": 2,
   "id": "25471a6f",
   "metadata": {},
   "outputs": [],
   "source": [
    "import pandas as pd\n",
    "import numpy as np\n",
    "import matplotlib.pyplot as plt"
   ]
  },
  {
   "cell_type": "code",
   "execution_count": 5,
   "id": "fcd6aa70",
   "metadata": {},
   "outputs": [
    {
     "data": {
      "text/html": [
       "<div>\n",
       "<style scoped>\n",
       "    .dataframe tbody tr th:only-of-type {\n",
       "        vertical-align: middle;\n",
       "    }\n",
       "\n",
       "    .dataframe tbody tr th {\n",
       "        vertical-align: top;\n",
       "    }\n",
       "\n",
       "    .dataframe thead th {\n",
       "        text-align: right;\n",
       "    }\n",
       "</style>\n",
       "<table border=\"1\" class=\"dataframe\">\n",
       "  <thead>\n",
       "    <tr style=\"text-align: right;\">\n",
       "      <th></th>\n",
       "      <th>A</th>\n",
       "      <th>B</th>\n",
       "      <th>C</th>\n",
       "    </tr>\n",
       "  </thead>\n",
       "  <tbody>\n",
       "    <tr>\n",
       "      <th>0</th>\n",
       "      <td>38.0</td>\n",
       "      <td>I</td>\n",
       "      <td>1.0</td>\n",
       "    </tr>\n",
       "    <tr>\n",
       "      <th>1</th>\n",
       "      <td>40.0</td>\n",
       "      <td>II</td>\n",
       "      <td>2.0</td>\n",
       "    </tr>\n",
       "    <tr>\n",
       "      <th>2</th>\n",
       "      <td>35.0</td>\n",
       "      <td>I</td>\n",
       "      <td>NaN</td>\n",
       "    </tr>\n",
       "  </tbody>\n",
       "</table>\n",
       "</div>"
      ],
      "text/plain": [
       "      A   B    C\n",
       "0  38.0   I  1.0\n",
       "1  40.0  II  2.0\n",
       "2  35.0   I  NaN"
      ]
     },
     "execution_count": 5,
     "metadata": {},
     "output_type": "execute_result"
    }
   ],
   "source": [
    "df_missing = pd.read_excel(io='../data/sample_data.xls', sheet_name='MissingData')\n",
    "df_missing.head(3)"
   ]
  },
  {
   "cell_type": "code",
   "execution_count": 13,
   "id": "34dd7b3c",
   "metadata": {},
   "outputs": [
    {
     "data": {
      "text/plain": [
       "13"
      ]
     },
     "execution_count": 13,
     "metadata": {},
     "output_type": "execute_result"
    }
   ],
   "source": [
    "df_missing.notnull() # isnull()\n",
    "df_missing.isnull().sum().sum()\n"
   ]
  },
  {
   "cell_type": "code",
   "execution_count": 15,
   "id": "bc9553fc",
   "metadata": {},
   "outputs": [
    {
     "data": {
      "text/html": [
       "<div>\n",
       "<style scoped>\n",
       "    .dataframe tbody tr th:only-of-type {\n",
       "        vertical-align: middle;\n",
       "    }\n",
       "\n",
       "    .dataframe tbody tr th {\n",
       "        vertical-align: top;\n",
       "    }\n",
       "\n",
       "    .dataframe thead th {\n",
       "        text-align: right;\n",
       "    }\n",
       "</style>\n",
       "<table border=\"1\" class=\"dataframe\">\n",
       "  <thead>\n",
       "    <tr style=\"text-align: right;\">\n",
       "      <th></th>\n",
       "      <th>A</th>\n",
       "      <th>B</th>\n",
       "      <th>C</th>\n",
       "    </tr>\n",
       "  </thead>\n",
       "  <tbody>\n",
       "    <tr>\n",
       "      <th>0</th>\n",
       "      <td>38.0</td>\n",
       "      <td>I</td>\n",
       "      <td>1.0</td>\n",
       "    </tr>\n",
       "    <tr>\n",
       "      <th>1</th>\n",
       "      <td>40.0</td>\n",
       "      <td>II</td>\n",
       "      <td>2.0</td>\n",
       "    </tr>\n",
       "    <tr>\n",
       "      <th>2</th>\n",
       "      <td>35.0</td>\n",
       "      <td>I</td>\n",
       "      <td>42.0</td>\n",
       "    </tr>\n",
       "    <tr>\n",
       "      <th>3</th>\n",
       "      <td>42.0</td>\n",
       "      <td>II</td>\n",
       "      <td>4.0</td>\n",
       "    </tr>\n",
       "  </tbody>\n",
       "</table>\n",
       "</div>"
      ],
      "text/plain": [
       "      A   B     C\n",
       "0  38.0   I   1.0\n",
       "1  40.0  II   2.0\n",
       "2  35.0   I  42.0\n",
       "3  42.0  II   4.0"
      ]
     },
     "execution_count": 15,
     "metadata": {},
     "output_type": "execute_result"
    }
   ],
   "source": [
    "# deal with missing values\n",
    "df_missing.fillna(42, inplace=True) # other techniques\n",
    "df_missing.head(4)"
   ]
  },
  {
   "cell_type": "code",
   "execution_count": 27,
   "id": "bb33a9b8",
   "metadata": {},
   "outputs": [
    {
     "data": {
      "text/html": [
       "<div>\n",
       "<style scoped>\n",
       "    .dataframe tbody tr th:only-of-type {\n",
       "        vertical-align: middle;\n",
       "    }\n",
       "\n",
       "    .dataframe tbody tr th {\n",
       "        vertical-align: top;\n",
       "    }\n",
       "\n",
       "    .dataframe thead th {\n",
       "        text-align: right;\n",
       "    }\n",
       "</style>\n",
       "<table border=\"1\" class=\"dataframe\">\n",
       "  <thead>\n",
       "    <tr style=\"text-align: right;\">\n",
       "      <th></th>\n",
       "      <th>A</th>\n",
       "      <th>B</th>\n",
       "      <th>C</th>\n",
       "    </tr>\n",
       "  </thead>\n",
       "  <tbody>\n",
       "    <tr>\n",
       "      <th>0</th>\n",
       "      <td>35.0</td>\n",
       "      <td>II</td>\n",
       "      <td>1.0</td>\n",
       "    </tr>\n",
       "    <tr>\n",
       "      <th>1</th>\n",
       "      <td>35.0</td>\n",
       "      <td>II</td>\n",
       "      <td>2.0</td>\n",
       "    </tr>\n",
       "  </tbody>\n",
       "</table>\n",
       "</div>"
      ],
      "text/plain": [
       "      A   B    C\n",
       "0  35.0  II  1.0\n",
       "1  35.0  II  2.0"
      ]
     },
     "execution_count": 27,
     "metadata": {},
     "output_type": "execute_result"
    }
   ],
   "source": [
    "# we will scatter some missingvalues, then resolve\n",
    "df_missing.iloc[:2,0] = np.nan # :2 will operate on 2 rows. 0 will operate on column 0\n",
    "df_missing.iloc[:3, 1] = np.nan\n",
    "df_missing.head(5)\n",
    "df_missing.bfill().drop_duplicates().head(2) # backfill\n"
   ]
  },
  {
   "cell_type": "markdown",
   "id": "eb7c514d",
   "metadata": {},
   "source": [
    "# Cleaning string/numeric data"
   ]
  },
  {
   "cell_type": "code",
   "execution_count": 34,
   "id": "cfae5713",
   "metadata": {},
   "outputs": [
    {
     "data": {
      "text/plain": [
       "Name               object\n",
       "Sector             object\n",
       "Price             float64\n",
       "Price/Earnings    float64\n",
       "Earnings/Share    float64\n",
       "52 Week High      float64\n",
       "52 Week Low       float64\n",
       "dtype: object"
      ]
     },
     "execution_count": 34,
     "metadata": {},
     "output_type": "execute_result"
    }
   ],
   "source": [
    "# this dataset has no dates, so parsedates is not required\n",
    "# ... but its good practice\n",
    "df_SPX = pd.read_csv('../Data/SPX.csv', parse_dates=True, index_col = 'Symbol')\n",
    "df_SPX.dtypes"
   ]
  },
  {
   "cell_type": "code",
   "execution_count": 35,
   "id": "95f9cfa6",
   "metadata": {},
   "outputs": [
    {
     "data": {
      "text/html": [
       "<div>\n",
       "<style scoped>\n",
       "    .dataframe tbody tr th:only-of-type {\n",
       "        vertical-align: middle;\n",
       "    }\n",
       "\n",
       "    .dataframe tbody tr th {\n",
       "        vertical-align: top;\n",
       "    }\n",
       "\n",
       "    .dataframe thead th {\n",
       "        text-align: right;\n",
       "    }\n",
       "</style>\n",
       "<table border=\"1\" class=\"dataframe\">\n",
       "  <thead>\n",
       "    <tr style=\"text-align: right;\">\n",
       "      <th></th>\n",
       "      <th>Name</th>\n",
       "      <th>Sector</th>\n",
       "    </tr>\n",
       "    <tr>\n",
       "      <th>Symbol</th>\n",
       "      <th></th>\n",
       "      <th></th>\n",
       "    </tr>\n",
       "  </thead>\n",
       "  <tbody>\n",
       "    <tr>\n",
       "      <th>MMM</th>\n",
       "      <td>3M Company</td>\n",
       "      <td>Industrials</td>\n",
       "    </tr>\n",
       "    <tr>\n",
       "      <th>AOS</th>\n",
       "      <td>A.O. Smith Corp</td>\n",
       "      <td>Industrials</td>\n",
       "    </tr>\n",
       "    <tr>\n",
       "      <th>ABT</th>\n",
       "      <td>Abbott Laboratories</td>\n",
       "      <td>Health Care</td>\n",
       "    </tr>\n",
       "  </tbody>\n",
       "</table>\n",
       "</div>"
      ],
      "text/plain": [
       "                       Name       Sector\n",
       "Symbol                                  \n",
       "MMM              3M Company  Industrials\n",
       "AOS         A.O. Smith Corp  Industrials\n",
       "ABT     Abbott Laboratories  Health Care"
      ]
     },
     "execution_count": 35,
     "metadata": {},
     "output_type": "execute_result"
    }
   ],
   "source": [
    "# Details around [], loc[], and iloc[]\n",
    "# .loc ONLY operates on the INDEX column -- it locates row(s) from their INDEX column name\n",
    "df_SPX['Name'] # just return the columns called 'Name' (which is a Pandas series)\n",
    "df_SPX[['Name', 'Sector']] # we can pick and choose which columns (in what order) we need\n",
    "# what about loc - pick ROWS by name\n",
    "df_SPX.loc[['MMM', 'AOS']] # [['Name', 'Sector']]\n",
    "whichCols = ['Name', 'Sector']\n",
    "subset = df_SPX.loc[['MMM', 'AOS', 'ABT']]\n",
    "subset[whichCols]\n",
    "# same as... but maybe easier to read\n",
    "df_SPX.loc[['MMM', 'AOS', 'ABT']][['Name', 'Sector']]"
   ]
  },
  {
   "cell_type": "code",
   "execution_count": 38,
   "id": "6ff1741b",
   "metadata": {},
   "outputs": [
    {
     "data": {
      "text/plain": [
       "Symbol\n",
       "MMM    Industrials\n",
       "AOS    Industrials\n",
       "Name: Sector, dtype: object"
      ]
     },
     "execution_count": 38,
     "metadata": {},
     "output_type": "execute_result"
    }
   ],
   "source": [
    "# so what about iloc\n",
    "# iloc is index-location, it works PRIMARILY on the index BY NUMBER\n",
    "df_SPX # it still has an ordinal notion to the index 0, 1, 2 etc.\n",
    "# .loc[start:stop:step] NOT stop-before\n",
    "df_SPX.iloc[4:10:2] # [start:stop-before:step]\n",
    "df_SPX.iloc[0:2, 1] # we CAN specify which columns, by their column index from zero\n",
    "df_SPX.iloc[:, 1]"
   ]
  },
  {
   "cell_type": "code",
   "execution_count": 33,
   "id": "8fe1afe1",
   "metadata": {},
   "outputs": [],
   "source": [
    "# save to excel\n",
    "writer = pd.ExcelWriter('SPX.xlsx', engine = 'xlsxwriter')\n",
    "df_SPX.to_excel(writer)\n",
    "# close the write\n",
    "writer.save()"
   ]
  },
  {
   "cell_type": "code",
   "execution_count": 6,
   "id": "ce11f26d",
   "metadata": {},
   "outputs": [
    {
     "data": {
      "text/plain": [
       "{1, 2, 3, 4, 5}"
      ]
     },
     "execution_count": 6,
     "metadata": {},
     "output_type": "execute_result"
    }
   ],
   "source": [
    "sampleList = [1,2,3,4,5]\n",
    "sampleList = {1,2,3,4,5}\n",
    "sampleList"
   ]
  },
  {
   "cell_type": "code",
   "execution_count": 9,
   "id": "1d77aee4",
   "metadata": {},
   "outputs": [
    {
     "name": "stdout",
     "output_type": "stream",
     "text": [
      "y\n"
     ]
    }
   ],
   "source": [
    "s = 'python'\n",
    "print(s[1:2])"
   ]
  },
  {
   "cell_type": "code",
   "execution_count": 10,
   "id": "d2089a7c",
   "metadata": {},
   "outputs": [
    {
     "ename": "NameError",
     "evalue": "name 'df_missing' is not defined",
     "output_type": "error",
     "traceback": [
      "\u001b[0;31m---------------------------------------------------------------------------\u001b[0m",
      "\u001b[0;31mNameError\u001b[0m                                 Traceback (most recent call last)",
      "Input \u001b[0;32mIn [10]\u001b[0m, in \u001b[0;36m<cell line: 1>\u001b[0;34m()\u001b[0m\n\u001b[0;32m----> 1\u001b[0m \u001b[43mdf_missing\u001b[49m\n",
      "\u001b[0;31mNameError\u001b[0m: name 'df_missing' is not defined"
     ]
    }
   ],
   "source": [
    "df_missing\n"
   ]
  }
 ],
 "metadata": {
  "kernelspec": {
   "display_name": "Python 3 (ipykernel)",
   "language": "python",
   "name": "python3"
  },
  "language_info": {
   "codemirror_mode": {
    "name": "ipython",
    "version": 3
   },
   "file_extension": ".py",
   "mimetype": "text/x-python",
   "name": "python",
   "nbconvert_exporter": "python",
   "pygments_lexer": "ipython3",
   "version": "3.9.12"
  }
 },
 "nbformat": 4,
 "nbformat_minor": 5
}
